{
 "cells": [
  {
   "cell_type": "code",
   "execution_count": 1,
   "metadata": {},
   "outputs": [],
   "source": [
    "import numpy as np\n",
    "import pandas as pd\n",
    "from sklearn.externals import joblib"
   ]
  },
  {
   "cell_type": "code",
   "execution_count": 2,
   "metadata": {},
   "outputs": [],
   "source": [
    "with np.load('data/interim/kmers/kmer_matrix.npz') as data:\n",
    "    kmers = data['kmers']\n",
    "    kmer_order = data['kmer_order']\n",
    "    genome_order = data['genome_order']"
   ]
  },
  {
   "cell_type": "code",
   "execution_count": 3,
   "metadata": {},
   "outputs": [],
   "source": [
    "micsdf = joblib.load('data/interim/mic_class_dataframe2.pkl')\n",
    "class_orders = joblib.load('data/interim/mic_class_order_dict2.pkl')"
   ]
  },
  {
   "cell_type": "code",
   "execution_count": 4,
   "metadata": {},
   "outputs": [],
   "source": [
    "# TIO\n",
    "tio_labels = class_orders['TIO']\n",
    "tio_label_index = { k: v for v, k in enumerate(tio_labels) }\n",
    "y_tio = np.array([ tio_label_index[m] if not pd.isna(m) else m for m in micsdf.loc[genome_order, 'TIO'] ])\n",
    "labels, counts = np.unique(y_tio, return_counts=True)\n",
    "ok = labels[counts >= 5]\n",
    "\n",
    "mask = np.in1d(y_tio, ok) # Since Nan is not a label, this also filters invalid MICs\n",
    "y_tio = y_tio[mask]\n",
    "X_tio = kmers[mask,:]\n",
    "tio_samples = genome_order[mask]"
   ]
  },
  {
   "cell_type": "code",
   "execution_count": 11,
   "metadata": {},
   "outputs": [],
   "source": [
    "# Test/train split\n",
    "from sklearn.model_selection import train_test_split\n",
    "X_train, X_test, y_train, y_test = train_test_split(X_tio, y_tio, test_size=0.2, random_state=36, stratify=y_tio)\n",
    "\n",
    "joblib.dump(X_train, 'data/interim/X_train_mmap.pkl')\n",
    "X_train = joblib.load('data/interim/X_train_mmap.pkl', mmap_mode='r+')"
   ]
  },
  {
   "cell_type": "code",
   "execution_count": 13,
   "metadata": {},
   "outputs": [
    {
     "name": "stdout",
     "output_type": "stream",
     "text": [
      "Selecting features with genetic algorithm.\n"
     ]
    }
   ],
   "source": [
    "# Genetic Algorithm Feature selection\n",
    "from sklearn import svm\n",
    "from genetic_selection import GeneticSelectionCV\n",
    "\n",
    "mod = svm.SVC(C=1.0, kernel='linear')\n",
    "fs = GeneticSelectionCV(mod,\n",
    "    cv=5,\n",
    "    verbose=1,\n",
    "    scoring=\"accuracy\",\n",
    "    n_population=50,\n",
    "    crossover_proba=0.5,\n",
    "    mutation_proba=0.2,\n",
    "    n_generations=40,\n",
    "    crossover_independent_proba=0.5,\n",
    "    mutation_independent_proba=0.05,\n",
    "    tournament_size=3,\n",
    "    caching=True,\n",
    "    n_jobs=1)\n",
    "\n",
    "fs.fit(X_train, y_train)\n",
    "\n",
    "\n"
   ]
  },
  {
   "cell_type": "code",
   "execution_count": 10,
   "metadata": {},
   "outputs": [
    {
     "ename": "AttributeError",
     "evalue": "'GeneticSelectionCV' object has no attribute 'generation_scores_'",
     "traceback": [
      "\u001b[0;31m---------------------------------------------------------------------------\u001b[0m",
      "\u001b[0;31mAttributeError\u001b[0m                            Traceback (most recent call last)",
      "\u001b[0;32m<ipython-input-10-49801136928f>\u001b[0m in \u001b[0;36m<module>\u001b[0;34m()\u001b[0m\n\u001b[0;32m----> 1\u001b[0;31m \u001b[0mfs\u001b[0m\u001b[0;34m.\u001b[0m\u001b[0mgeneration_scores_\u001b[0m\u001b[0;34m\u001b[0m\u001b[0m\n\u001b[0m",
      "\u001b[0;31mAttributeError\u001b[0m: 'GeneticSelectionCV' object has no attribute 'generation_scores_'"
     ],
     "output_type": "error"
    }
   ],
   "source": [
    "fs.generation_scores_"
   ]
  },
  {
   "cell_type": "code",
   "execution_count": null,
   "metadata": {},
   "outputs": [],
   "source": []
  }
 ],
 "metadata": {
  "kernelspec": {
   "display_name": "Python 3",
   "language": "python",
   "name": "python3"
  },
  "language_info": {
   "codemirror_mode": {
    "name": "ipython",
    "version": 3
   },
   "file_extension": ".py",
   "mimetype": "text/x-python",
   "name": "python",
   "nbconvert_exporter": "python",
   "pygments_lexer": "ipython3",
   "version": "3.6.4"
  }
 },
 "nbformat": 4,
 "nbformat_minor": 2
}
