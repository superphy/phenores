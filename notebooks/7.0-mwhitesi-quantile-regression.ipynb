{
 "cells": [
  {
   "cell_type": "code",
   "execution_count": 1,
   "metadata": {},
   "outputs": [],
   "source": [
    "import numpy as np\n",
    "import pandas as pd\n",
    "from sklearn.externals import joblib\n",
    "import gc"
   ]
  },
  {
   "cell_type": "code",
   "execution_count": 2,
   "metadata": {},
   "outputs": [],
   "source": [
    "with np.load('data/interim/kmers/kmer_matrix.npz') as data:\n",
    "    kmers = data['kmers']\n",
    "    kmer_order = data['kmer_order']\n",
    "    genome_order = data['genome_order']"
   ]
  },
  {
   "cell_type": "code",
   "execution_count": 3,
   "metadata": {},
   "outputs": [],
   "source": [
    "micsdf = joblib.load('data/interim/mic_class_dataframe2.pkl')\n",
    "class_orders = joblib.load('data/interim/mic_class_order_dict2.pkl')"
   ]
  },
  {
   "cell_type": "code",
   "execution_count": 4,
   "metadata": {},
   "outputs": [
    {
     "data": {
      "text/plain": [
       "45"
      ]
     },
     "execution_count": 4,
     "metadata": {},
     "output_type": "execute_result"
    }
   ],
   "source": [
    "# TIO\n",
    "tio_labels = class_orders['TIO']\n",
    "tio_label_index = { k: v for v, k in enumerate(tio_labels) }\n",
    "y_tio = np.array([ tio_label_index[m] if not pd.isna(m) else m for m in micsdf.loc[genome_order, 'TIO'] ])\n",
    "labels, counts = np.unique(y_tio, return_counts=True)\n",
    "ok = labels[counts >= 5]\n",
    "\n",
    "mask = np.in1d(y_tio, ok) # Since Nan is not a label, this also filters invalid MICs\n",
    "y_tio = y_tio[mask]\n",
    "X_tio = kmers[mask,:]\n",
    "tio_samples = genome_order[mask]\n",
    "del kmers\n",
    "del genome_order\n",
    "del micsdf\n",
    "del class_orders\n",
    "gc.collect()\n",
    "# %xdel kmers\n",
    "# %xdel genome_order\n",
    "# %xdel micsdf\n",
    "# %xdel class_orders"
   ]
  },
  {
   "cell_type": "code",
   "execution_count": 5,
   "metadata": {},
   "outputs": [
    {
     "data": {
      "text/plain": [
       "0"
      ]
     },
     "execution_count": 5,
     "metadata": {},
     "output_type": "execute_result"
    }
   ],
   "source": [
    "# Test/train split\n",
    "from sklearn.model_selection import train_test_split\n",
    "X_train, X_test, y_train, y_test = train_test_split(X_tio, y_tio, test_size=0.2, random_state=36, stratify=y_tio)\n",
    "del X_tio\n",
    "del y_tio\n",
    "gc.collect()"
   ]
  },
  {
   "cell_type": "code",
   "execution_count": 6,
   "metadata": {},
   "outputs": [
    {
     "name": "stdout",
     "output_type": "stream",
     "text": [
      "(array([1., 2., 3., 4., 5., 6.]), array([ 404, 1046,   66,    6,   78,  205]))\n(array([1., 2., 3., 4., 5., 6.]), array([101, 262,  16,   1,  20,  52]))\n"
     ]
    }
   ],
   "source": [
    "print(np.unique(y_train,return_counts=True))\n",
    "print(np.unique(y_test,return_counts=True))"
   ]
  },
  {
   "cell_type": "code",
   "execution_count": 8,
   "metadata": {},
   "outputs": [
    {
     "name": "stderr",
     "output_type": "stream",
     "text": [
      "/home/matt/anaconda3/envs/phenores/lib/python3.6/site-packages/sklearn/feature_selection/univariate_selection.py:113: UserWarning: Features [ 149082  195348  257056 ... 2008529 2008530 2008531] are constant.\n  UserWarning)\n/home/matt/anaconda3/envs/phenores/lib/python3.6/site-packages/sklearn/feature_selection/univariate_selection.py:114: RuntimeWarning: divide by zero encountered in true_divide\n  f = msb / msw\n/home/matt/anaconda3/envs/phenores/lib/python3.6/site-packages/sklearn/feature_selection/univariate_selection.py:114: RuntimeWarning: invalid value encountered in true_divide\n  f = msb / msw\n"
     ]
    }
   ],
   "source": [
    "# Feature selection\n",
    "from sklearn.feature_selection import SelectKBest\n",
    "from sklearn.feature_selection import chi2, f_classif, mutual_info_classif\n",
    "\n",
    "fsel = SelectKBest(f_classif, k=500)\n",
    "X_train_fs = fsel.fit_transform(X_train, y_train)\n",
    "X_test_fs = fsel.transform(X_test)\n",
    "\n",
    "import lightgbm as lgb\n",
    "lgb_train = lgb.Dataset(X_train_fs, y_train)"
   ]
  },
  {
   "cell_type": "code",
   "execution_count": 147,
   "metadata": {},
   "outputs": [
    {
     "name": "stdout",
     "output_type": "stream",
     "text": [
      "Start training...\n"
     ]
    },
    {
     "name": "stderr",
     "output_type": "stream",
     "text": [
      "/home/matt/anaconda3/envs/phenores/lib/python3.6/site-packages/lightgbm/engine.py:102: UserWarning: Found `num_iterations` in params. Will use it instead of argument\n  warnings.warn(\"Found `{}` in params. Will use it instead of argument\".format(alias))\n"
     ]
    },
    {
     "name": "stdout",
     "output_type": "stream",
     "text": [
      "complete\n"
     ]
    }
   ],
   "source": [
    "# Build LGB model\n",
    "\n",
    "params = {\n",
    "    'num_leaves': 20,\n",
    "    'min_data_in_leaf': 75,\n",
    "    #'max_bin': 200,\n",
    "    'learning_rate': 0.02,\n",
    "    'num_iterations': 350,\n",
    "    'num_trees': 100,\n",
    "    'metric': ('l2', 'auc'),\n",
    "    'objective': 'multiclass',\n",
    "    'num_threads': 12,\n",
    "    'verbose': 0,\n",
    "    'num_classes': 7,\n",
    "    'boosting': 'gbdt',\n",
    "    'feature_fraction': 0.9,\n",
    "    'bagging_fraction': 0.8,\n",
    "    'bagging_freq': 5,\n",
    "    #'max_depth': \n",
    "}\n",
    "\n",
    "evals_result = {}  # to record eval results for plotting\n",
    "\n",
    "print('Start training...')\n",
    "# train\n",
    "lgbm = lgb.train(params,\n",
    "    lgb_train)\n",
    "\n",
    "print('complete')\n",
    "\n"
   ]
  },
  {
   "cell_type": "code",
   "execution_count": 148,
   "metadata": {},
   "outputs": [],
   "source": [
    "pr = lgbm.predict(X_test_fs)"
   ]
  },
  {
   "cell_type": "code",
   "execution_count": 149,
   "metadata": {},
   "outputs": [
    {
     "data": {
      "text/plain": [
       "0.7411504424778761"
      ]
     },
     "execution_count": 149,
     "metadata": {},
     "output_type": "execute_result"
    }
   ],
   "source": [
    "cl = np.argmax(pr, 1)\n",
    "sum(cl == y_test)/len(cl)"
   ]
  },
  {
   "cell_type": "code",
   "execution_count": 189,
   "metadata": {},
   "outputs": [],
   "source": [
    "params2 = {\n",
    "    'task': 'train',\n",
    "    'num_leaves': 20,\n",
    "    'min_data_in_leaf': 75,\n",
    "    #'max_bin': 200,\n",
    "    'learning_rate': 0.02,\n",
    "    #'num_iterations': 350,\n",
    "    'num_trees': 1000,\n",
    "    'metric': {'l2', 'auc'},\n",
    "    'objective': 'quantile',\n",
    "    'num_threads': 12,\n",
    "    'verbose': 0,\n",
    "    'boosting': 'gbdt',\n",
    "    'feature_fraction': 0.9,\n",
    "    'bagging_fraction': 0.8,\n",
    "    'bagging_freq': 5,\n",
    "    #'max_depth': \n",
    "}\n",
    "\n",
    "lgbregm = lgb.train(params2,\n",
    "        lgb_train,\n",
    "        num_boost_round=350)\n",
    "        #early_stopping_rounds=5)\n",
    "y_pred = lgbregm.predict(X_test_fs)\n",
    "\n"
   ]
  },
  {
   "cell_type": "code",
   "execution_count": 191,
   "metadata": {},
   "outputs": [
    {
     "data": {
      "text/plain": [
       "0"
      ]
     },
     "execution_count": 191,
     "metadata": {},
     "output_type": "execute_result"
    }
   ],
   "source": [
    "sum((y_test < y_predh) & (y_test > y_predl))\n",
    "# FAIL!!!!!"
   ]
  },
  {
   "cell_type": "code",
   "execution_count": 265,
   "metadata": {},
   "outputs": [],
   "source": [
    "params2 = {\n",
    "    'task': 'train',\n",
    "    'num_leaves': 20,\n",
    "    'min_data_in_leaf': 100,\n",
    "    'max_bin': 200,\n",
    "    'learning_rate': 0.02,\n",
    "    'metric': {'poisson', 'auc'},\n",
    "    'objective': 'regression',\n",
    "    'num_threads': 12,\n",
    "    'verbose': 0,\n",
    "    'boosting': 'gbdt',\n",
    "    'feature_fraction': 0.9,\n",
    "    'bagging_fraction': 0.8,\n",
    "    'bagging_freq': 5,\n",
    "    #'max_depth': \n",
    "}\n",
    "\n",
    "lgbregm = lgb.train(params2,\n",
    "        lgb_train,\n",
    "        num_boost_round=300)\n",
    "        #early_stopping_rounds=5)\n",
    "y_pred = lgbregm.predict(X_test_fs)\n",
    "\n"
   ]
  },
  {
   "cell_type": "code",
   "execution_count": 266,
   "metadata": {},
   "outputs": [
    {
     "data": {
      "image/png": "[encoded data removed]",
      "text/plain": [
       "<Figure size 432x288 with 1 Axes>"
      ]
     },
     "metadata": {},
     "output_type": "display_data"
    },
    {
     "data": {
      "text/plain": [
       "0.7234513274336283"
      ]
     },
     "execution_count": 266,
     "metadata": {},
     "output_type": "execute_result"
    }
   ],
   "source": [
    "import matplotlib.pyplot as plt\n",
    "plt.hist(y_pred-y_test)\n",
    "plt.show()\n",
    "\n",
    "np.sum(np.abs(y_pred-y_test) < 0.5)/len(y_test)\n"
   ]
  },
  {
   "cell_type": "code",
   "execution_count": 278,
   "metadata": {},
   "outputs": [],
   "source": [
    "params3 = {\n",
    "    'task': 'train',\n",
    "    'num_leaves': 20,\n",
    "    'min_data_in_leaf': 100,\n",
    "    'max_bin': 200,\n",
    "    'learning_rate': 0.02,\n",
    "    'metric': {'poisson', 'auc'},\n",
    "    'objective': 'quantile',\n",
    "    'alpha': 0.1,\n",
    "    'num_threads': 12,\n",
    "    'verbose': 0,\n",
    "    'boosting': 'gbdt',\n",
    "    'feature_fraction': 0.9,\n",
    "    'bagging_fraction': 0.8,\n",
    "    'bagging_freq': 5,\n",
    "    #'max_depth': \n",
    "}\n",
    "\n",
    "lgbregm = lgb.train(params3,\n",
    "        lgb_train,\n",
    "        num_boost_round=300)\n",
    "        #early_stopping_rounds=5)\n",
    "y_pred_low = lgbregm.predict(X_test_fs)\n",
    "\n",
    "params3['alpha'] = 0.1\n",
    "lgbregm = lgb.train(params3,\n",
    "        lgb_train,\n",
    "        num_boost_round=300)\n",
    "        #early_stopping_rounds=5)\n",
    "y_pred_high = lgbregm.predict(X_test_fs)"
   ]
  },
  {
   "cell_type": "code",
   "execution_count": 279,
   "metadata": {},
   "outputs": [
    {
     "data": {
      "image/png": "[encoded data removed]",
      "text/plain": [
       "<Figure size 432x288 with 1 Axes>"
      ]
     },
     "metadata": {},
     "output_type": "display_data"
    },
    {
     "data": {
      "text/plain": [
       "0.11946902654867257"
      ]
     },
     "execution_count": 279,
     "metadata": {},
     "output_type": "execute_result"
    }
   ],
   "source": [
    "import matplotlib.pyplot as plt\n",
    "plt.hist(y_pred-y_test)\n",
    "plt.show()\n",
    "\n",
    "np.sum((y_test < y_pred_high))/len(y_test)\n"
   ]
  },
  {
   "cell_type": "code",
   "execution_count": null,
   "metadata": {},
   "outputs": [],
   "source": []
  }
 ],
 "metadata": {
  "kernelspec": {
   "display_name": "Python 3",
   "language": "python",
   "name": "python3"
  },
  "language_info": {
   "codemirror_mode": {
    "name": "ipython",
    "version": 3
   },
   "file_extension": ".py",
   "mimetype": "text/x-python",
   "name": "python",
   "nbconvert_exporter": "python",
   "pygments_lexer": "ipython3",
   "version": "3.6.4"
  }
 },
 "nbformat": 4,
 "nbformat_minor": 2
}
