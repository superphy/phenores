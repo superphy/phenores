{
 "cells": [
  {
   "cell_type": "markdown",
   "metadata": {},
   "source": [
    "MIC prediction for different drugs"
   ]
  },
  {
   "cell_type": "code",
   "execution_count": 1,
   "metadata": {},
   "outputs": [],
   "source": [
    "import numpy as np\n",
    "import pandas as pd\n",
    "from sklearn.externals import joblib\n",
    "from sklearn.preprocessing import LabelEncoder\n",
    "from sklearn.model_selection import train_test_split\n",
    "from sklearn.feature_selection import SelectKBest, f_classif\n",
    "from sklearn.svm import LinearSVC\n",
    "from sklearn.metrics import accuracy_score, classification_report, confusion_matrix\n",
    "# from keras.layers import Dense\n",
    "# from keras.models import Sequential\n",
    "# from keras.utils import to_categorical\n",
    "# from keras.wrappers.scikit_learn import KerasClassifier"
   ]
  },
  {
   "cell_type": "code",
   "execution_count": 2,
   "metadata": {},
   "outputs": [
    {
     "data": {
      "text/plain": [
       "(1406, 1922478)"
      ]
     },
     "execution_count": 2,
     "metadata": {},
     "output_type": "execute_result"
    }
   ],
   "source": [
    "# Load kmers\n",
    "data = np.load('../data/interim/streptomycin/kmers/kmer_matrix.npz')\n",
    "kmers = data['kmers']\n",
    "kmer_order = data['kmer_order']\n",
    "kmers.shape"
   ]
  },
  {
   "cell_type": "code",
   "execution_count": 3,
   "metadata": {},
   "outputs": [],
   "source": [
    "mics = joblib.load(\"../data/interim/mic_class_dataframe.pkl\")\n",
    "mic_order = joblib.load(\"../data/interim/mic_class_order_dict.pkl\")"
   ]
  },
  {
   "cell_type": "code",
   "execution_count": 4,
   "metadata": {},
   "outputs": [],
   "source": [
    "# Join datasets\n",
    "y = mics['AMP']\n",
    "y = y.dropna(axis=0, how='any')\n",
    "y = y.loc[y != 'invalid']\n",
    "has_mic = np.in1d(kmer_order, y.index.values)\n",
    "X_order = kmer_order[has_mic]\n",
    "X = kmers[has_mic,:]\n",
    "y = y[X_order]"
   ]
  },
  {
   "cell_type": "code",
   "execution_count": 5,
   "metadata": {},
   "outputs": [],
   "source": [
    "# Encode remaining labels\n",
    "le = LabelEncoder()\n",
    "le.fit(y)\n",
    "y = le.transform(y)"
   ]
  },
  {
   "cell_type": "code",
   "execution_count": 6,
   "metadata": {},
   "outputs": [
    {
     "name": "stdout",
     "output_type": "stream",
     "text": [
      "(array([0, 1, 2, 3]), array([129,   9, 783, 485]))\n",
      "(array([0, 1, 2, 3]), array([105,   7, 625, 387]))\n",
      "(array([0, 1, 2, 3]), array([ 24,   2, 158,  98]))\n"
     ]
    }
   ],
   "source": [
    "# Test/train split\n",
    "X_train, X_test, y_train, y_test = train_test_split(X, y, test_size=0.20, random_state=36)\n",
    "print(np.unique(y, return_counts=True))\n",
    "print(np.unique(y_train, return_counts=True))\n",
    "print(np.unique(y_test, return_counts=True))"
   ]
  },
  {
   "cell_type": "code",
   "execution_count": 7,
   "metadata": {},
   "outputs": [],
   "source": [
    "# Filter selection\n",
    "feature_selection = SelectKBest(f_classif, k=270)\n",
    "feature_selection.fit(X_train, y_train)\n",
    "X_train_fs = feature_selection.transform(X_train)\n",
    "X_test_fs = feature_selection.transform(X_test)"
   ]
  },
  {
   "cell_type": "code",
   "execution_count": 8,
   "metadata": {},
   "outputs": [],
   "source": [
    "# SVM Training\n",
    "svm = LinearSVC(C=1, penalty='l1', dual=False)\n",
    "svm.fit(X_train_fs,y_train)\n",
    "y_svm = svm.predict(X_test_fs)"
   ]
  },
  {
   "cell_type": "code",
   "execution_count": 9,
   "metadata": {},
   "outputs": [
    {
     "name": "stdout",
     "output_type": "stream",
     "text": [
      "0.8687943262411347\n",
      "             precision    recall  f1-score   support\n",
      "\n",
      "          0       0.36      0.42      0.38        24\n",
      "          1       0.00      0.00      0.00         2\n",
      "          2       0.90      0.89      0.89       158\n",
      "          3       0.98      0.97      0.97        98\n",
      "\n",
      "avg / total       0.87      0.87      0.87       282\n",
      "\n",
      "[[ 10   0  13   1]\n",
      " [  1   0   1   0]\n",
      " [ 16   1 140   1]\n",
      " [  1   0   2  95]]\n"
     ]
    }
   ],
   "source": [
    "# SVM performance\n",
    "print(accuracy_score(y_test,y_svm))\n",
    "print(classification_report(y_test,y_svm))\n",
    "print(confusion_matrix(y_test,y_svm))"
   ]
  },
  {
   "cell_type": "code",
   "execution_count": 10,
   "metadata": {},
   "outputs": [
    {
     "data": {
      "text/plain": [
       "array(['2.0000', '4.0000', '<=1.0000', '>=32.0000'], dtype=object)"
      ]
     },
     "execution_count": 10,
     "metadata": {},
     "output_type": "execute_result"
    }
   ],
   "source": [
    "le.classes_"
   ]
  },
  {
   "cell_type": "code",
   "execution_count": 11,
   "metadata": {},
   "outputs": [
    {
     "name": "stdout",
     "output_type": "stream",
     "text": [
      "0.8297872340425532\n",
      "             precision    recall  f1-score   support\n",
      "\n",
      "        0.0       0.94      0.87      0.90       258\n",
      "        1.0       0.21      0.38      0.27        24\n",
      "\n",
      "avg / total       0.88      0.83      0.85       282\n",
      "\n",
      "[[225  33]\n",
      " [ 15   9]]\n"
     ]
    },
    {
     "name": "stderr",
     "output_type": "stream",
     "text": [
      "/home/matt/anaconda3/envs/phenores4/lib/python3.6/site-packages/sklearn/preprocessing/label.py:151: DeprecationWarning: The truth value of an empty array is ambiguous. Returning False, but in future this will result in an error. Use `array.size > 0` to check that an array is not empty.\n",
      "  if diff:\n"
     ]
    }
   ],
   "source": [
    "# Try to fit a model that does a good job predicting 2.0\n",
    "y_train_bin = np.zeros(len(y_train))\n",
    "y_train_bin[y_train == 0] = 1\n",
    "y_test_bin = np.zeros(len(y_test))\n",
    "y_test_bin[y_test == 0] = 1\n",
    "\n",
    "feature_selection = SelectKBest(f_classif, k=270)\n",
    "feature_selection.fit(X_train, y_train_bin)\n",
    "X_train_bin = feature_selection.transform(X_train)\n",
    "X_test_bin = feature_selection.transform(X_test)\n",
    "\n",
    "from xgboost import XGBClassifier\n",
    "xgb = XGBClassifier(max_depth=3, n_estimators=100, learning_rate=0.1, scale_pos_weight=10)\n",
    "xgb.fit(X_train_bin,y_train_bin)\n",
    "y_xgb_bin = xgb.predict(X_test_bin)\n",
    "\n",
    "print(accuracy_score(y_test_bin, y_xgb_bin))\n",
    "print(classification_report(y_test_bin, y_xgb_bin))\n",
    "print(confusion_matrix(y_test_bin, y_xgb_bin))\n",
    "\n",
    "# Find a FN and find its nearest neighbour\n",
    "#y_xgb_bin != "
   ]
  },
  {
   "cell_type": "code",
   "execution_count": 44,
   "metadata": {},
   "outputs": [
    {
     "data": {
      "text/plain": [
       "(1124,)"
      ]
     },
     "execution_count": 44,
     "metadata": {},
     "output_type": "execute_result"
    }
   ],
   "source": [
    "# Try one of the more tricky ones\n",
    "set1 = (y_train == 0) | (y_train == 2)\n",
    "y_train_2 = y_train[set1]\n",
    "X_train_2 = X_train[set1,:]\n",
    "y_test_2 = y_test[(y_test == 0) | (y_test == 2)]\n",
    "X_test_2 = X_test[(y_test == 0) | (y_test == 2),:]\n",
    "\n",
    "feature_selection = SelectKBest(f_classif, k=270)\n",
    "feature_selection.fit(X_train_2, y_train_2)\n",
    "X_train_fs2 = feature_selection.transform(X_train_2)\n",
    "X_test_fs2 = feature_selection.transform(X_test_2)"
   ]
  },
  {
   "cell_type": "code",
   "execution_count": 33,
   "metadata": {},
   "outputs": [],
   "source": [
    "svm = LinearSVC(C=1, penalty='l1', dual=False)\n",
    "svm.fit(X_train_fs2,y_train_2)\n",
    "y_svm = svm.predict(X_test_fs2)"
   ]
  },
  {
   "cell_type": "code",
   "execution_count": 34,
   "metadata": {},
   "outputs": [
    {
     "name": "stdout",
     "output_type": "stream",
     "text": [
      "0.8076923076923077\n",
      "             precision    recall  f1-score   support\n",
      "\n",
      "          0       0.30      0.33      0.31        24\n",
      "          2       0.90      0.88      0.89       158\n",
      "\n",
      "avg / total       0.82      0.81      0.81       182\n",
      "\n",
      "[[  8  16]\n",
      " [ 19 139]]\n"
     ]
    }
   ],
   "source": [
    "print(accuracy_score(y_test_2,y_svm))\n",
    "print(classification_report(y_test_2,y_svm))\n",
    "print(confusion_matrix(y_test_2,y_svm))"
   ]
  },
  {
   "cell_type": "code",
   "execution_count": 35,
   "metadata": {},
   "outputs": [
    {
     "data": {
      "text/plain": [
       "Text(0.5,1,'PCA of MIC 2.0 and <= 1.0. Prediction results from SVM.')"
      ]
     },
     "execution_count": 35,
     "metadata": {},
     "output_type": "execute_result"
    },
    {
     "data": {
      "image/png": "[encoded data removed]",
      "text/plain": [
       "<matplotlib.figure.Figure at 0x7f9d506ab9b0>"
      ]
     },
     "metadata": {},
     "output_type": "display_data"
    }
   ],
   "source": [
    "# Visualize relationships between correct/incorrect\n",
    "import matplotlib.pyplot as plt\n",
    "\n",
    "plt.rcParams['figure.figsize'] = [10, 10]\n",
    "\n",
    "from sklearn import datasets\n",
    "from sklearn.decomposition import PCA\n",
    "\n",
    "# Identify the important features\n",
    "# bighitters = (np.abs(svm.coef_[0]) > 0.0)\n",
    "# X_pca = X_test_2[:,bighitters]\n",
    "X_pca = X_test_fs2 * svm.coef_[0]\n",
    "\n",
    "pca = PCA(n_components=2)\n",
    "X_r = pca.fit(X_pca).transform(X_pca)\n",
    "\n",
    "names = np.array([\"2.0 TP\", \"2.0 FN\", \"<= 1.0 TN\", \"<= 1.0 FP\"])\n",
    "colors = np.array([\"turquoise\", \"darkblue\", \"yellow\", \"darkorange\"])\n",
    "data_labels = np.zeros(len(y_test_2))\n",
    "data_labels[(y_test_2 == 0) & (y_test_2 == y_svm)] = 0\n",
    "data_labels[(y_test_2 == 0) & (y_test_2 != y_svm)] = 1\n",
    "data_labels[(y_test_2 == 2) & (y_test_2 == y_svm)] = 2\n",
    "data_labels[(y_test_2 == 2) & (y_test_2 != y_svm)] = 3\n",
    "lw = 1\n",
    "\n",
    "plot_order = [2, 3, 1, 0]\n",
    "\n",
    "for color, i, target_name in zip(colors[plot_order], plot_order, names[plot_order]):\n",
    "    plt.scatter(X_r[data_labels == i, 0], X_r[data_labels == i, 1], color=color, alpha=.8, lw=lw, label=target_name)\n",
    "plt.legend(loc='best', shadow=False, scatterpoints=1)\n",
    "plt.title('PCA of MIC 2.0 and <= 1.0. Prediction results from SVM.')"
   ]
  },
  {
   "cell_type": "code",
   "execution_count": 16,
   "metadata": {},
   "outputs": [],
   "source": [
    "# Try XGBoost now\n"
   ]
  },
  {
   "cell_type": "code",
   "execution_count": 19,
   "metadata": {},
   "outputs": [
    {
     "name": "stdout",
     "output_type": "stream",
     "text": [
      "0.8406593406593407\n",
      "             precision    recall  f1-score   support\n",
      "\n",
      "          0       0.38      0.33      0.36        24\n",
      "          2       0.90      0.92      0.91       158\n",
      "\n",
      "avg / total       0.83      0.84      0.84       182\n",
      "\n",
      "[[  8  16]\n",
      " [ 13 145]]\n"
     ]
    },
    {
     "name": "stderr",
     "output_type": "stream",
     "text": [
      "/home/matt/anaconda3/envs/phenores4/lib/python3.6/site-packages/sklearn/preprocessing/label.py:151: DeprecationWarning: The truth value of an empty array is ambiguous. Returning False, but in future this will result in an error. Use `array.size > 0` to check that an array is not empty.\n",
      "  if diff:\n"
     ]
    }
   ],
   "source": [
    "from xgboost import XGBClassifier\n",
    "xgb = XGBClassifier(max_depth=3, n_estimators=100, learning_rate=0.1)\n",
    "xgb.fit(X_train_fs2,y_train_2)\n",
    "y_xgb = xgb.predict(X_test_fs2)\n",
    "\n",
    "print(accuracy_score(y_test_2,y_xgb))\n",
    "print(classification_report(y_test_2,y_xgb))\n",
    "print(confusion_matrix(y_test_2,y_xgb))"
   ]
  },
  {
   "cell_type": "code",
   "execution_count": 38,
   "metadata": {},
   "outputs": [
    {
     "data": {
      "text/plain": [
       "Text(0.5,1,'PCA of MIC 2.0 and <= 1.0. Prediction results from SVM.')"
      ]
     },
     "execution_count": 38,
     "metadata": {},
     "output_type": "execute_result"
    },
    {
     "data": {
      "image/png": "[encoded data removed]",
      "text/plain": [
       "<matplotlib.figure.Figure at 0x7f1f05d98358>"
      ]
     },
     "metadata": {},
     "output_type": "display_data"
    }
   ],
   "source": [
    "X_pca = X_test_fs2 * xgb.feature_importances_\n",
    "\n",
    "pca = PCA(n_components=2)\n",
    "X_r = pca.fit(X_pca).transform(X_pca)\n",
    "\n",
    "\n",
    "names = np.array([\"2.0 TP\", \"2.0 FN\", \"<= 1.0 TN\", \"<= 1.0 FP\"])\n",
    "colors = np.array([\"turquoise\", \"darkblue\", \"yellow\", \"darkorange\"])\n",
    "data_labels = np.zeros(len(y_test_2))\n",
    "data_labels[(y_test_2 == 0) & (y_test_2 == y_svm)] = 0\n",
    "data_labels[(y_test_2 == 0) & (y_test_2 != y_svm)] = 1\n",
    "data_labels[(y_test_2 == 2) & (y_test_2 == y_svm)] = 2\n",
    "data_labels[(y_test_2 == 2) & (y_test_2 != y_svm)] = 3\n",
    "lw = 1\n",
    "\n",
    "plot_order = [2, 3, 1, 0]\n",
    "\n",
    "for color, i, target_name in zip(colors[plot_order], plot_order, names[plot_order]):\n",
    "    plt.scatter(X_r[data_labels == i, 0], X_r[data_labels == i, 1], color=color, alpha=.8, lw=lw, label=target_name)\n",
    "plt.legend(loc='best', shadow=False, scatterpoints=1)\n",
    "plt.title('PCA of MIC 2.0 and <= 1.0. Prediction results from SVM.')"
   ]
  },
  {
   "cell_type": "code",
   "execution_count": 20,
   "metadata": {},
   "outputs": [
    {
     "name": "stdout",
     "output_type": "stream",
     "text": [
      "0.7527472527472527\n",
      "             precision    recall  f1-score   support\n",
      "\n",
      "          0       0.20      0.29      0.24        24\n",
      "          2       0.88      0.82      0.85       158\n",
      "\n",
      "avg / total       0.79      0.75      0.77       182\n",
      "\n",
      "[[  7  17]\n",
      " [ 28 130]]\n"
     ]
    }
   ],
   "source": [
    "from sklearn.linear_model import SGDClassifier\n",
    "sgd = SGDClassifier(loss=\"hinge\", penalty='l1', max_iter=1000, tol=None)\n",
    "sgd.fit(X_train_fs2,y_train_2)\n",
    "y_sgd = sgd.predict(X_test_fs2)\n",
    "\n",
    "print(accuracy_score(y_test_2,y_sgd))\n",
    "print(classification_report(y_test_2,y_sgd))\n",
    "print(confusion_matrix(y_test_2,y_sgd))"
   ]
  },
  {
   "cell_type": "code",
   "execution_count": 21,
   "metadata": {},
   "outputs": [
    {
     "data": {
      "text/plain": [
       "Text(0.5,1,'PCA of MIC 2.0 and <= 1.0. Prediction results from SVM.')"
      ]
     },
     "execution_count": 21,
     "metadata": {},
     "output_type": "execute_result"
    },
    {
     "data": {
      "image/png": "[encoded data removed]",
      "text/plain": [
       "<matplotlib.figure.Figure at 0x7f9e93abb7b8>"
      ]
     },
     "metadata": {},
     "output_type": "display_data"
    }
   ],
   "source": [
    "X_pca = X_test_fs2 * sgd.coef_[0]\n",
    "\n",
    "pca = PCA(n_components=2)\n",
    "X_r = pca.fit(X_pca).transform(X_pca)\n",
    "\n",
    "\n",
    "names = np.array([\"2.0 TP\", \"2.0 FN\", \"<= 1.0 TN\", \"<= 1.0 FP\"])\n",
    "colors = np.array([\"turquoise\", \"darkblue\", \"yellow\", \"darkorange\"])\n",
    "data_labels = np.zeros(len(y_test_2))\n",
    "data_labels[(y_test_2 == 0) & (y_test_2 == y_svm)] = 0\n",
    "data_labels[(y_test_2 == 0) & (y_test_2 != y_svm)] = 1\n",
    "data_labels[(y_test_2 == 2) & (y_test_2 == y_svm)] = 2\n",
    "data_labels[(y_test_2 == 2) & (y_test_2 != y_svm)] = 3\n",
    "lw = 1\n",
    "\n",
    "plot_order = [2, 3, 1, 0]\n",
    "\n",
    "for color, i, target_name in zip(colors[plot_order], plot_order, names[plot_order]):\n",
    "    plt.scatter(X_r[data_labels == i, 0], X_r[data_labels == i, 1], color=color, alpha=.8, lw=lw, label=target_name)\n",
    "plt.legend(loc='best', shadow=False, scatterpoints=1)\n",
    "plt.title('PCA of MIC 2.0 and <= 1.0. Prediction results from SVM.')"
   ]
  },
  {
   "cell_type": "code",
   "execution_count": 90,
   "metadata": {},
   "outputs": [
    {
     "name": "stdout",
     "output_type": "stream",
     "text": [
      "[ 20  22  28  52  54  64  69  79 124 126 136 153 154 162 164 170]\n",
      "[ 20  22  28  52  54  64  69  79 124  32 136  21  97 162 164 170]\n",
      "[ 47   2  40  80  31 180  81  40  33  31  44 153  48 111  81   2]\n",
      "[[0.         2.82842712]\n",
      " [0.         1.        ]\n",
      " [0.         5.29150262]\n",
      " [0.         5.19615242]\n",
      " [0.         1.        ]\n",
      " [0.         5.83095189]\n",
      " [0.         1.41421356]\n",
      " [0.         5.38516481]\n",
      " [0.         3.74165739]\n",
      " [0.         0.        ]\n",
      " [0.         1.73205081]\n",
      " [0.         0.        ]\n",
      " [0.         0.        ]\n",
      " [0.         0.        ]\n",
      " [0.         4.35889894]\n",
      " [0.         2.23606798]]\n",
      "270\n",
      "True\n",
      "269\n",
      "242\n",
      "0\n",
      "2\n",
      "0\n",
      "0\n"
     ]
    },
    {
     "data": {
      "text/plain": [
       "28"
      ]
     },
     "execution_count": 90,
     "metadata": {},
     "output_type": "execute_result"
    }
   ],
   "source": [
    "# Are there any differences between nearest neighbours?\n",
    "from sklearn.neighbors import NearestNeighbors\n",
    "nbrs = NearestNeighbors(n_neighbors=2, algorithm='ball_tree').fit(X_test_fs2)\n",
    "distances, indices = nbrs.kneighbors(X_test_fs2)\n",
    "# FN\n",
    "fns = np.where((y_test_2 != y_xgb) & (y_test_2 == 0))[0]\n",
    "\n",
    "print(fns)\n",
    "print(indices[fns,0])\n",
    "print(indices[fns,1])\n",
    "print(distances[fns,])\n",
    "print(X_test_fs2.shape[1])\n",
    "print(np.all(X_test_fs2[32,:] == X_test_fs2[126,:]))\n",
    "print(np.sum(X_test_fs2[2,:] == X_test_fs2[22,:]))\n",
    "print(np.sum(X_test_fs2[28,:] == X_test_fs2[40,:]))\n",
    "print(y_test_2[28])\n",
    "print(y_xgb[28])\n",
    "print(y_test_2[40])\n",
    "print(y_xgb[40])\n",
    "\n",
    "X_test_fs2[40,:] != X_test_fs2[28,:]\n"
   ]
  },
  {
   "cell_type": "code",
   "execution_count": 46,
   "metadata": {},
   "outputs": [
    {
     "data": {
      "text/plain": [
       "array([[  0,  25],\n",
       "       [ 32,  31],\n",
       "       [  2,  89],\n",
       "       [  3,  66],\n",
       "       [117,   4],\n",
       "       [ 32,  31],\n",
       "       [  6,  39],\n",
       "       [ 32,  31],\n",
       "       [  8,  56],\n",
       "       [  9, 163],\n",
       "       [ 32,  31],\n",
       "       [ 32,  31],\n",
       "       [ 12,  80],\n",
       "       [ 13,  41],\n",
       "       [ 14,  31],\n",
       "       [ 32,  31],\n",
       "       [ 32,  31],\n",
       "       [ 17,  48],\n",
       "       [ 18,  41],\n",
       "       [ 32,  31],\n",
       "       [ 20,  47],\n",
       "       [ 21, 153],\n",
       "       [ 22,   2],\n",
       "       [ 23, 174],\n",
       "       [ 32,  31],\n",
       "       [ 25,  31],\n",
       "       [ 26,  31],\n",
       "       [ 27,  45],\n",
       "       [ 28,  40],\n",
       "       [ 29,  31],\n",
       "       [ 30,  31],\n",
       "       [ 32,  31],\n",
       "       [ 32,  31],\n",
       "       [ 33, 124],\n",
       "       [ 34,  56],\n",
       "       [ 35,  45],\n",
       "       [ 32,  31],\n",
       "       [ 37,  89],\n",
       "       [ 32,  31],\n",
       "       [ 39,   6],\n",
       "       [ 40, 173],\n",
       "       [ 41, 127],\n",
       "       [ 42,  27],\n",
       "       [ 43,  82],\n",
       "       [ 44, 113],\n",
       "       [ 45,  31],\n",
       "       [ 46, 108],\n",
       "       [ 47,  20],\n",
       "       [ 97,  48],\n",
       "       [ 32,  31],\n",
       "       [ 32,  31],\n",
       "       [ 51,  31],\n",
       "       [ 52,  80],\n",
       "       [ 53,  31],\n",
       "       [ 54,  31],\n",
       "       [ 55, 150],\n",
       "       [ 56,  91],\n",
       "       [ 32,  31],\n",
       "       [ 58, 132],\n",
       "       [ 59, 153],\n",
       "       [ 60,  31],\n",
       "       [ 61,  31],\n",
       "       [ 62, 174],\n",
       "       [ 63,  65],\n",
       "       [ 64, 180],\n",
       "       [152,  65],\n",
       "       [ 66,   3],\n",
       "       [ 67,  55],\n",
       "       [ 68,  31],\n",
       "       [ 69,  81],\n",
       "       [ 70,  31],\n",
       "       [ 32,  31],\n",
       "       [115,  72],\n",
       "       [ 73,  56],\n",
       "       [ 74,  31],\n",
       "       [ 32,  31],\n",
       "       [ 32,  31],\n",
       "       [ 77, 103],\n",
       "       [ 78,  18],\n",
       "       [ 79,  40],\n",
       "       [ 80,  98],\n",
       "       [ 81,  31],\n",
       "       [106,  82],\n",
       "       [ 83,   4],\n",
       "       [ 84, 153],\n",
       "       [ 37,  89],\n",
       "       [ 86,  31],\n",
       "       [ 87,  45],\n",
       "       [ 88, 116],\n",
       "       [ 37,  89],\n",
       "       [ 90, 147],\n",
       "       [ 91,  56],\n",
       "       [ 92,  52],\n",
       "       [ 32,  31],\n",
       "       [ 94,   2],\n",
       "       [ 95,  96],\n",
       "       [ 96,  95],\n",
       "       [ 97,  48],\n",
       "       [ 98,  80],\n",
       "       [ 99,   8],\n",
       "       [100,  81],\n",
       "       [101, 122],\n",
       "       [102,  54],\n",
       "       [103,  77],\n",
       "       [104,  35],\n",
       "       [105,  48],\n",
       "       [106,  82],\n",
       "       [ 32,  31],\n",
       "       [108,  46],\n",
       "       [ 32,  31],\n",
       "       [ 97,  48],\n",
       "       [162, 111],\n",
       "       [ 32,  31],\n",
       "       [113, 114],\n",
       "       [114, 113],\n",
       "       [115,  72],\n",
       "       [116,  88],\n",
       "       [117,   4],\n",
       "       [118, 124],\n",
       "       [ 32,  31],\n",
       "       [ 32,  31],\n",
       "       [121, 153],\n",
       "       [122,  31],\n",
       "       [123,  31],\n",
       "       [124,  33],\n",
       "       [125, 173],\n",
       "       [ 32,  31],\n",
       "       [127,  41],\n",
       "       [ 32,  31],\n",
       "       [129,  81],\n",
       "       [130, 138],\n",
       "       [131,  48],\n",
       "       [172, 132],\n",
       "       [133,  31],\n",
       "       [ 32,  31],\n",
       "       [ 97,  48],\n",
       "       [136,  44],\n",
       "       [ 32,  31],\n",
       "       [138, 130],\n",
       "       [ 32,  31],\n",
       "       [140,  40],\n",
       "       [ 32,  31],\n",
       "       [ 32,  31],\n",
       "       [ 32,  31],\n",
       "       [ 32,  31],\n",
       "       [145,  48],\n",
       "       [ 32,  31],\n",
       "       [147, 113],\n",
       "       [148, 104],\n",
       "       [149,  80],\n",
       "       [150,  55],\n",
       "       [151, 108],\n",
       "       [152,  65],\n",
       "       [ 21, 153],\n",
       "       [ 97,  48],\n",
       "       [ 32,  31],\n",
       "       [ 32,  31],\n",
       "       [157,  31],\n",
       "       [ 32,  31],\n",
       "       [159,  79],\n",
       "       [160,  28],\n",
       "       [ 32,  31],\n",
       "       [162, 111],\n",
       "       [163,  48],\n",
       "       [164,  81],\n",
       "       [165, 179],\n",
       "       [ 32,  31],\n",
       "       [ 32,  31],\n",
       "       [168, 124],\n",
       "       [ 32,  31],\n",
       "       [170,   2],\n",
       "       [171,  31],\n",
       "       [172, 132],\n",
       "       [173,  40],\n",
       "       [174,  23],\n",
       "       [ 32,  31],\n",
       "       [176,  31],\n",
       "       [177,   8],\n",
       "       [178, 170],\n",
       "       [179, 165],\n",
       "       [180, 159],\n",
       "       [181,  67]])"
      ]
     },
     "execution_count": 46,
     "metadata": {},
     "output_type": "execute_result"
    }
   ],
   "source": [
    "indices"
   ]
  },
  {
   "cell_type": "code",
   "execution_count": 103,
   "metadata": {},
   "outputs": [
    {
     "name": "stdout",
     "output_type": "stream",
     "text": [
      "0.7527472527472527\n",
      "             precision    recall  f1-score   support\n",
      "\n",
      "          0       0.20      0.29      0.24        24\n",
      "          2       0.88      0.82      0.85       158\n",
      "\n",
      "avg / total       0.79      0.75      0.77       182\n",
      "\n",
      "[[  7  17]\n",
      " [ 28 130]]\n"
     ]
    }
   ],
   "source": [
    "# Try RBF kernal SVM\n",
    "from sklearn.svm import SVC\n",
    "svc = SVC(gamma=1000000000000000000, C=1, kernel='rbf')\n",
    "svc.fit(X_train_fs2,y_train_2)\n",
    "y_svc = sgd.predict(X_test_fs2)\n",
    "\n",
    "print(accuracy_score(y_test_2,y_svc))\n",
    "print(classification_report(y_test_2,y_svc))\n",
    "print(confusion_matrix(y_test_2,y_svc))"
   ]
  },
  {
   "cell_type": "code",
   "execution_count": 117,
   "metadata": {},
   "outputs": [
    {
     "name": "stdout",
     "output_type": "stream",
     "text": [
      "(1406, 1922478)\n",
      "2.703004068\n"
     ]
    }
   ],
   "source": [
    "print(kmers.shape)\n",
    "print(kmers.nbytes / 1e9)"
   ]
  },
  {
   "cell_type": "code",
   "execution_count": 116,
   "metadata": {},
   "outputs": [
    {
     "data": {
      "text/plain": [
       "2703004068"
      ]
     },
     "execution_count": 116,
     "metadata": {},
     "output_type": "execute_result"
    }
   ],
   "source": [
    "kmers.nbytes"
   ]
  },
  {
   "cell_type": "code",
   "execution_count": null,
   "metadata": {},
   "outputs": [],
   "source": []
  }
 ],
 "metadata": {
  "kernelspec": {
   "display_name": "Python 3",
   "language": "python",
   "name": "python3"
  },
  "language_info": {
   "codemirror_mode": {
    "name": "ipython",
    "version": 3
   },
   "file_extension": ".py",
   "mimetype": "text/x-python",
   "name": "python",
   "nbconvert_exporter": "python",
   "pygments_lexer": "ipython3",
   "version": "3.6.4"
  }
 },
 "nbformat": 4,
 "nbformat_minor": 2
}
