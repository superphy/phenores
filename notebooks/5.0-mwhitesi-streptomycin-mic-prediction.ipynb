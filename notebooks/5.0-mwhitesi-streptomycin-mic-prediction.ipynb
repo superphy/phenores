{
 "cells": [
  {
   "cell_type": "markdown",
   "metadata": {},
   "source": [
    "MIC prediction for streptomycin"
   ]
  },
  {
   "cell_type": "code",
   "execution_count": 1,
   "metadata": {},
   "outputs": [],
   "source": [
    "import numpy as np\n",
    "import pandas as pd\n",
    "from sklearn.externals import joblib"
   ]
  },
  {
   "cell_type": "code",
   "execution_count": 2,
   "metadata": {},
   "outputs": [
    {
     "data": {
      "text/plain": [
       "(1406, 1922478)"
      ]
     },
     "execution_count": 2,
     "metadata": {},
     "output_type": "execute_result"
    }
   ],
   "source": [
    "# Load kmers\n",
    "data = np.load('../data/interim/streptomycin/kmers/kmer_matrix.npz')\n",
    "kmers = data['kmers']\n",
    "kmer_order = data['kmer_order']\n",
    "kmers.shape"
   ]
  },
  {
   "cell_type": "code",
   "execution_count": 3,
   "metadata": {},
   "outputs": [],
   "source": [
    "# Load categories\n",
    "mics = joblib.load(\"../data/interim/str_mic_class_dataframe.pkl\")\n",
    "mic_order = joblib.load(\"../data/interim/str_mic_class_order_dict.pkl\")"
   ]
  },
  {
   "cell_type": "code",
   "execution_count": 4,
   "metadata": {},
   "outputs": [],
   "source": [
    "# Filter kmers for genomes with MIC values\n",
    "mics = mics.dropna(axis=0, how='any')\n",
    "mics = mics.loc[mics.streptomycin != 'invalid','streptomycin']\n",
    "has_mic = np.in1d(kmer_order, mics.index.values)\n",
    "\n",
    "kmer_order = kmer_order[has_mic]\n",
    "kmers = kmers[has_mic,:]"
   ]
  },
  {
   "cell_type": "code",
   "execution_count": 5,
   "metadata": {},
   "outputs": [
    {
     "data": {
      "text/plain": [
       "(748, 1922478)"
      ]
     },
     "execution_count": 5,
     "metadata": {},
     "output_type": "execute_result"
    }
   ],
   "source": [
    "kmers.shape"
   ]
  },
  {
   "cell_type": "code",
   "execution_count": 6,
   "metadata": {},
   "outputs": [],
   "source": [
    "# Encode prediction data\n",
    "from sklearn.preprocessing import LabelEncoder\n",
    "\n",
    "le = LabelEncoder()\n",
    "le.fit(mics)\n",
    "y = le.transform(mics)\n",
    "X = kmers"
   ]
  },
  {
   "cell_type": "code",
   "execution_count": 7,
   "metadata": {},
   "outputs": [],
   "source": [
    "# Test / train set\n",
    "in_training = np.random.rand(len(y)) < 0.8\n",
    "X_train = X[in_training]\n",
    "X_test = X[~in_training]\n",
    "y_train = y[in_training]\n",
    "y_test = y[~in_training]"
   ]
  },
  {
   "cell_type": "code",
   "execution_count": 8,
   "metadata": {},
   "outputs": [
    {
     "name": "stdout",
     "output_type": "stream",
     "text": [
      "1.9459101490553135\n"
     ]
    }
   ],
   "source": [
    "# Baseline - uniform likelihood distribution \n",
    "from sklearn.metrics import log_loss\n",
    "nclasses = 7\n",
    "nsamples = len(y_test)\n",
    "baseline_pred = np.ones((nsamples, nclasses)) * 1/nclasses\n",
    "print(log_loss(y_test,baseline_pred))"
   ]
  },
  {
   "cell_type": "code",
   "execution_count": 55,
   "metadata": {},
   "outputs": [],
   "source": [
    "# Pipelines\n",
    "from sklearn.feature_selection import SelectPercentile\n",
    "from sklearn.feature_selection import SelectKBest\n",
    "from sklearn.feature_selection import chi2, mutual_info_classif\n",
    "\n",
    "from sklearn.feature_selection import SelectFromModel\n",
    "from sklearn.svm import LinearSVC\n",
    "\n",
    "\n",
    "fs = SelectPercentile(chi2, percentile=1)\n",
    "fs.fit(X_train, y_train)\n",
    "X_train_fs1 = fs.transform(X_train)\n",
    "X_test_fs1 = fs.transform(X_test)\n",
    "\n",
    "# fs2 = SelectKBest(mutual_info_classif, k=20000)\n",
    "# fs2.fit(X_train, y_train)\n",
    "# X_train_fs2 = fs2.transform(X_train)\n",
    "# X_test_fs2 = fs2.transform(X_test)\n",
    "\n",
    "# lsvc = LinearSVC(C=0.01, penalty=\"l1\", dual=False).fit(X_train, y_train)\n",
    "# model = SelectFromModel(lsvc, prefit=True)\n",
    "# X_train_mod = model.transform(X_train)\n",
    "# X_train_mod.shape\n"
   ]
  },
  {
   "cell_type": "code",
   "execution_count": 57,
   "metadata": {},
   "outputs": [],
   "source": [
    "from sklearn.ensemble import RandomForestClassifier\n",
    "from sklearn.linear_model import LogisticRegression\n",
    "from sklearn.svm import LinearSVC\n",
    "\n",
    "#l = LogisticRegression()\n",
    "#r = RandomForestClassifier()\n",
    "s = LinearSVC(C=1, penalty='l2')\n",
    "\n",
    "\n",
    "\n",
    "# y_pred = s.predict_proba(X_test_mod)\n",
    "# print(log_loss(y_test,y_pred))"
   ]
  },
  {
   "cell_type": "code",
   "execution_count": 59,
   "metadata": {},
   "outputs": [
    {
     "name": "stdout",
     "output_type": "stream",
     "text": [
      "0.5379310344827586\n",
      "             precision    recall  f1-score   support\n",
      "\n",
      "          0       0.80      0.33      0.47        12\n",
      "          1       0.00      0.00      0.00         3\n",
      "          2       0.36      0.80      0.50         5\n",
      "          3       0.51      0.44      0.47        50\n",
      "          4       0.52      0.87      0.65        15\n",
      "          5       0.00      0.00      0.00         4\n",
      "          6       0.58      0.62      0.60        56\n",
      "\n",
      "avg / total       0.53      0.54      0.52       145\n",
      "\n",
      "[[ 4  0  0  1  6  0  1]\n",
      " [ 0  0  0  1  2  0  0]\n",
      " [ 0  0  4  0  1  0  0]\n",
      " [ 0  1  1 22  2  0 24]\n",
      " [ 1  0  1  0 13  0  0]\n",
      " [ 0  0  4  0  0  0  0]\n",
      " [ 0  0  1 19  1  0 35]]\n"
     ]
    },
    {
     "name": "stderr",
     "output_type": "stream",
     "text": [
      "/home/matt/anaconda3/envs/phenores4/lib/python3.6/site-packages/sklearn/metrics/classification.py:1135: UndefinedMetricWarning: Precision and F-score are ill-defined and being set to 0.0 in labels with no predicted samples.\n",
      "  'precision', 'predicted', average, warn_for)\n"
     ]
    }
   ],
   "source": [
    "from sklearn.metrics import accuracy_score, classification_report, confusion_matrix\n",
    "s.fit(X_train_fs1,y_train)\n",
    "y_pred2 = s.predict(X_test_fs1)\n",
    "print(accuracy_score(y_test,y_pred2))\n",
    "print(classification_report(y_test,y_pred2))\n",
    "print(confusion_matrix(y_test,y_pred2))"
   ]
  },
  {
   "cell_type": "code",
   "execution_count": 20,
   "metadata": {},
   "outputs": [
    {
     "data": {
      "text/plain": [
       "array(['16.0000', '32.0000', '4.0000', '64.0000', '8.0000', '<=2.0000',\n",
       "       '>64.0000'], dtype=object)"
      ]
     },
     "execution_count": 20,
     "metadata": {},
     "output_type": "execute_result"
    }
   ],
   "source": [
    "le.classes_"
   ]
  },
  {
   "cell_type": "code",
   "execution_count": 52,
   "metadata": {},
   "outputs": [
    {
     "name": "stdout",
     "output_type": "stream",
     "text": [
      "0.5172413793103449\n",
      "             precision    recall  f1-score   support\n",
      "\n",
      "          0       0.20      0.08      0.12        12\n",
      "          1       0.00      0.00      0.00         3\n",
      "          2       0.33      0.40      0.36         5\n",
      "          3       0.51      0.50      0.51        50\n",
      "          4       0.44      0.73      0.55        15\n",
      "          5       0.33      0.25      0.29         4\n",
      "          6       0.61      0.62      0.62        56\n",
      "\n",
      "avg / total       0.50      0.52      0.50       145\n",
      "\n",
      "[[ 1  0  0  3  6  0  2]\n",
      " [ 0  0  0  1  2  0  0]\n",
      " [ 0  0  2  0  2  1  0]\n",
      " [ 2  0  0 25  2  1 20]\n",
      " [ 2  0  0  2 11  0  0]\n",
      " [ 0  0  3  0  0  1  0]\n",
      " [ 0  0  1 18  2  0 35]]\n"
     ]
    },
    {
     "name": "stderr",
     "output_type": "stream",
     "text": [
      "/home/matt/anaconda3/envs/phenores4/lib/python3.6/site-packages/sklearn/preprocessing/label.py:151: DeprecationWarning: The truth value of an empty array is ambiguous. Returning False, but in future this will result in an error. Use `array.size > 0` to check that an array is not empty.\n",
      "  if diff:\n",
      "/home/matt/anaconda3/envs/phenores4/lib/python3.6/site-packages/sklearn/metrics/classification.py:1135: UndefinedMetricWarning: Precision and F-score are ill-defined and being set to 0.0 in labels with no predicted samples.\n",
      "  'precision', 'predicted', average, warn_for)\n"
     ]
    }
   ],
   "source": [
    "from xgboost import XGBClassifier\n",
    "x = XGBClassifier()\n",
    "x.fit(X_train_fs2, y_train)\n",
    "y_pred2 = x.predict(X_test_fs2)\n",
    "print(accuracy_score(y_test,y_pred2))\n",
    "print(classification_report(y_test,y_pred2))\n",
    "cm = confusion_matrix(y_test,y_pred2)\n",
    "sum(np.diag(cm))/nsamples\n",
    "print(cm)"
   ]
  },
  {
   "cell_type": "code",
   "execution_count": 54,
   "metadata": {},
   "outputs": [
    {
     "data": {
      "text/plain": [
       "0.7793103448275862"
      ]
     },
     "execution_count": 54,
     "metadata": {},
     "output_type": "execute_result"
    }
   ],
   "source": [
    "cm = confusion_matrix(y_test,y_pred2)\n",
    "(sum(np.diag(cm))+18+20)/nsamples\n"
   ]
  },
  {
   "cell_type": "code",
   "execution_count": 42,
   "metadata": {},
   "outputs": [
    {
     "data": {
      "text/plain": [
       "array(['16.0000', '32.0000', '4.0000', '64.0000', '8.0000', '<=2.0000',\n",
       "       '>64.0000'], dtype=object)"
      ]
     },
     "execution_count": 42,
     "metadata": {},
     "output_type": "execute_result"
    }
   ],
   "source": [
    "le.classes_"
   ]
  },
  {
   "cell_type": "code",
   "execution_count": null,
   "metadata": {},
   "outputs": [],
   "source": []
  }
 ],
 "metadata": {
  "kernelspec": {
   "display_name": "Python 3",
   "language": "python",
   "name": "python3"
  },
  "language_info": {
   "codemirror_mode": {
    "name": "ipython",
    "version": 3
   },
   "file_extension": ".py",
   "mimetype": "text/x-python",
   "name": "python",
   "nbconvert_exporter": "python",
   "pygments_lexer": "ipython3",
   "version": "3.6.4"
  }
 },
 "nbformat": 4,
 "nbformat_minor": 2
}
